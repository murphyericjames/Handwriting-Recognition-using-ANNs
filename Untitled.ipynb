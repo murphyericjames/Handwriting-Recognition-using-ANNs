{
 "cells": [
  {
   "cell_type": "code",
   "execution_count": 1,
   "metadata": {
    "collapsed": false
   },
   "outputs": [
    {
     "name": "stderr",
     "output_type": "stream",
     "text": [
      "\n",
      "----------------------------------------------------------------------\n",
      "\n",
      "Your next step is to start H2O:\n",
      "    > h2o.init()\n",
      "\n",
      "For H2O package documentation, ask for help:\n",
      "    > ??h2o\n",
      "\n",
      "After starting H2O, you can use the Web UI at http://localhost:54321\n",
      "For more information visit http://docs.h2o.ai\n",
      "\n",
      "----------------------------------------------------------------------\n",
      "\n",
      "\n",
      "Attaching package: 'h2o'\n",
      "\n",
      "The following objects are masked from 'package:stats':\n",
      "\n",
      "    cor, sd, var\n",
      "\n",
      "The following objects are masked from 'package:base':\n",
      "\n",
      "    %*%, %in%, &&, ||, apply, as.factor, as.numeric, colnames,\n",
      "    colnames<-, ifelse, is.character, is.factor, is.numeric, log,\n",
      "    log10, log1p, log2, round, signif, trunc\n",
      "\n"
     ]
    },
    {
     "name": "stdout",
     "output_type": "stream",
     "text": [
      "\n",
      "H2O is not running yet, starting it now...\n",
      "\n",
      "Note:  In case of errors look at the following log files:\n",
      "    C:\\Users\\Murphy\\AppData\\Local\\Temp\\Rtmpgd9HB9/h2o_Murphy_started_from_r.out\n",
      "    C:\\Users\\Murphy\\AppData\\Local\\Temp\\Rtmpgd9HB9/h2o_Murphy_started_from_r.err\n",
      "\n",
      "\n",
      "Starting H2O JVM and connecting: ... Connection successful!\n",
      "\n",
      "\n",
      "ERROR: Unexpected HTTP Status code: 500 Server Error (url = http://localhost:54321/3/Cloud?skip_ticks=true)\n",
      "\n"
     ]
    },
    {
     "ename": "ERROR",
     "evalue": "Error: lexical error: invalid char in json text.\n                                       <html> <head> <meta http-equiv=\n                     (right here) ------^\n\n",
     "output_type": "error",
     "traceback": [
      "Error: lexical error: invalid char in json text.\n                                       <html> <head> <meta http-equiv=\n                     (right here) ------^\n\nTraceback:\n",
      "1. h2o.init()",
      "2. h2o.clusterInfo()",
      "3. .h2o.fromJSON(jsonlite::fromJSON(.h2o.doSafeGET(urlSuffix = .h2o.__CLOUD), \n .     simplifyDataFrame = FALSE))",
      "4. processMatrices(txt, ...)",
      "5. jsonlite::fromJSON(.h2o.doSafeGET(urlSuffix = .h2o.__CLOUD), \n .     simplifyDataFrame = FALSE)",
      "6. .h2o.doSafeGET(urlSuffix = .h2o.__CLOUD)",
      "7. .h2o.doSafeREST(h2oRestApiVersion = h2oRestApiVersion, urlSuffix = urlSuffix, \n .     parms = parms, method = \"GET\", ...)",
      "8. jsonlite::fromJSON(rv$payload, simplifyDataFrame = FALSE)",
      "9. fromJSON_string(txt = txt, simplifyVector = simplifyVector, simplifyDataFrame = simplifyDataFrame, \n .     simplifyMatrix = simplifyMatrix, flatten = flatten, ...)",
      "10. parseJSON(txt, bigint_as_char)",
      "11. parse_string(txt, bigint_as_char)"
     ]
    }
   ],
   "source": [
    "library(h2o)\n",
    "h2o.init()"
   ]
  },
  {
   "cell_type": "code",
   "execution_count": null,
   "metadata": {
    "collapsed": true
   },
   "outputs": [],
   "source": []
  }
 ],
 "metadata": {
  "anaconda-cloud": {},
  "kernelspec": {
   "display_name": "R",
   "language": "R",
   "name": "ir"
  },
  "language_info": {
   "codemirror_mode": "r",
   "file_extension": ".r",
   "mimetype": "text/x-r-source",
   "name": "R",
   "pygments_lexer": "r",
   "version": "3.3.2"
  }
 },
 "nbformat": 4,
 "nbformat_minor": 1
}
